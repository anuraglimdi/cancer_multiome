{
 "cells": [
  {
   "cell_type": "markdown",
   "id": "aa8894be-bcb7-4797-9e44-966abd97429e",
   "metadata": {},
   "source": [
    "# Predicting drug response from multi-omic measurements\n",
    "\n",
    "In this notebook, I will apply a variational autoencoder (VAE) inspired model to take as input proteomics, transcriptomics, and methylation data to predict drug response across 175 lung cancer cell lines.\n",
    "\n",
    "## Biological question and rationale for modeling\n",
    "\n",
    "Modern genomics approaches allow us to get detailed insight into several cellular phenotypes such as chromatin accessibility, transcript levels, protein abundance, among others. How these phenotypes map to 1) drug response or 2) gene essentiality are very relevant from a therapeutic / drug development standpoint. For instance, if we had a model trained on vast omics datasets, we could answer questions like:\n",
    "\n",
    "- can we identify promising drug candidates for cell lines with omics data but limited drug response measurements?\n",
    "- alteratively, can we identify conditionally essential genes as preliminary targets for therapeutic development?\n",
    "\n",
    "In this modeling problem, I will focus on predicting drug response from three measurement types: transcriptomics, proteomics, and methylation.\n",
    "\n",
    "## Modeling framework\n",
    "\n",
    "I will apply a VAE framework (with an encoder and decoder), typically used to reconstruct inputs and learn embeddings, to instead predict drug response. The intuition behind this is that model training maps input omics datasets to drug response through a latent space representation. I decided to use a VAE instead of a transformer because:\n",
    "- the probabilistic representation of inputs in VAEs can help prevent overfitting through latent space regularization\n",
    "- VAEs are much faster to train than transformer based models\n",
    "- there's only 175 cancer cell models, and a large transformer model could overfit to the limited data"
   ]
  },
  {
   "cell_type": "markdown",
   "id": "2e5cfa77-8715-47ff-ba81-714cda382755",
   "metadata": {},
   "source": [
    "## Imports"
   ]
  },
  {
   "cell_type": "code",
   "execution_count": 1,
   "id": "cdc98a5e-a677-445e-98a9-4b0b9d027c13",
   "metadata": {},
   "outputs": [],
   "source": [
    "from typing import List, Optional\n",
    "from tqdm import tqdm\n",
    "import os"
   ]
  },
  {
   "cell_type": "code",
   "execution_count": 2,
   "id": "18ea363f-d18b-4ccf-a128-0678ea589d88",
   "metadata": {},
   "outputs": [],
   "source": [
    "import numpy as np\n",
    "import pandas as pd\n",
    "import matplotlib.pyplot as plt\n",
    "import seaborn as sns\n",
    "from scipy.stats import pearsonr, spearmanr\n",
    "from sklearn.metrics import mean_squared_error"
   ]
  },
  {
   "cell_type": "code",
   "execution_count": 3,
   "id": "c5afff00-f096-4cf0-9391-749412787ebc",
   "metadata": {},
   "outputs": [],
   "source": [
    "import torch\n",
    "import torch.nn as nn\n",
    "import torch.nn.functional as F\n",
    "from torch.utils.data import Dataset, DataLoader, Subset"
   ]
  },
  {
   "cell_type": "markdown",
   "id": "5d2e226f-6325-4d8a-ae5b-192f25c37e6d",
   "metadata": {},
   "source": [
    "## Lung cancer datasets"
   ]
  },
  {
   "cell_type": "code",
   "execution_count": 27,
   "id": "693407f2-4214-49d3-9521-1ed985a7703b",
   "metadata": {},
   "outputs": [],
   "source": [
    "lung_datasets = {}\n",
    "for file in os.listdir(f\"Dataset/Lung\"):\n",
    "    if file.endswith(\".csv\"):\n",
    "        df = pd.read_csv(os.path.join(f\"Dataset/{cancer_type}\", file), index_col=0)\n",
    "        dict_key = file.replace(\"_imputed\", \"\").replace(\"_latest\", \"\").replace(\".csv\", \"\").split(\"_\")[-1]\n",
    "        lung_datasets[dict_key] = df"
   ]
  },
  {
   "cell_type": "code",
   "execution_count": 5,
   "id": "5cfd2577-2d18-4d68-8d67-00ed79436979",
   "metadata": {},
   "outputs": [
    {
     "data": {
      "text/plain": [
       "['crisprcas9',\n",
       " 'metabolomics',\n",
       " 'transcriptomics',\n",
       " 'fusions',\n",
       " 'copynumber',\n",
       " 'proteomics',\n",
       " 'drugresponse',\n",
       " 'methylation']"
      ]
     },
     "execution_count": 5,
     "metadata": {},
     "output_type": "execute_result"
    }
   ],
   "source": [
    "list(lung_datasets.keys())"
   ]
  },
  {
   "cell_type": "markdown",
   "id": "18f92e70-e8a4-46b6-a110-014487a87eb4",
   "metadata": {},
   "source": [
    "**Modify the assay types if you'd like to build other predictive models**\n",
    "\n",
    "Fusions are not represented in a wide-form dataset, so the code here cannot handle it correctly."
   ]
  },
  {
   "cell_type": "code",
   "execution_count": 6,
   "id": "f5a0371c-8568-4255-86d0-883d222c97ac",
   "metadata": {},
   "outputs": [],
   "source": [
    "training_assays = [\"transcriptomics\", \"proteomics\", \"methylation\"]\n",
    "target_assay = \"drugresponse\""
   ]
  },
  {
   "cell_type": "code",
   "execution_count": 7,
   "id": "2a50fb47-e8fc-4810-a235-1e4f696fabaf",
   "metadata": {},
   "outputs": [],
   "source": [
    "lung_training_data = pd.concat([lung_datasets[key] for key in training_assays if key != \"fusions\"], axis=1)\n",
    "lung_target_data = lung_datasets[target_assay]"
   ]
  },
  {
   "cell_type": "markdown",
   "id": "3613791a-14cd-46cb-bc36-6530b5307470",
   "metadata": {
    "tags": []
   },
   "source": [
    "## VAE predictive model\n",
    "\n",
    "Classes for constructing the VAE based prediction model in PyTorch"
   ]
  },
  {
   "cell_type": "code",
   "execution_count": 8,
   "id": "0a9b5c05-c82b-4ad4-a09b-fa975e4a7ef7",
   "metadata": {},
   "outputs": [],
   "source": [
    "class Encoder(nn.Module):\n",
    "    def __init__(self, \n",
    "                 input_dim: int, \n",
    "                 hidden_layer_sizes: List[int], \n",
    "                 nonlinear_activation: nn.Module, \n",
    "                 latent_dim: int):\n",
    "        \"\"\"\n",
    "        multilayer perceptron encoder class\n",
    "        \n",
    "        Arguments:\n",
    "        - input_dim (int): number of features in the training data\n",
    "        - hidden_layer_sizes (List[int]): list of # nodes in hidden layers\n",
    "        - nonlinear_activation (nn.Module): activation function\n",
    "        - latent_dim (int): number of latent space dimensions\n",
    "        \n",
    "        \"\"\"\n",
    "        super().__init__()\n",
    "        self.input_dim = input_dim\n",
    "        self.hidden_layer_sizes = hidden_layer_sizes\n",
    "        self.nonlinear_activation = nonlinear_activation\n",
    "        self.latent_dim = latent_dim\n",
    "        \n",
    "        # defining the encoder layers\n",
    "        self.hidden_layers = nn.ModuleList([])\n",
    "        for idx in range(len(hidden_layer_sizes)):\n",
    "            if idx == 0:\n",
    "                self.hidden_layers.append(nn.Linear(input_dim, self.hidden_layer_sizes[idx]))\n",
    "            else:\n",
    "                self.hidden_layers.append(nn.Linear(self.hidden_layer_sizes[idx-1], self.hidden_layer_sizes[idx]))\n",
    "        \n",
    "        # output layers with mu and logvar\n",
    "        self.mu_layer = nn.Linear(self.hidden_layer_sizes[-1], latent_dim)\n",
    "        self.logvar_layer = nn.Linear(self.hidden_layer_sizes[-1], latent_dim)\n",
    "        \n",
    "    def forward(self, x):\n",
    "        \"\"\"\n",
    "        Arguments: \n",
    "        - x (tensor): input tensor for each cancer cell line\n",
    "        \n",
    "        Returns:\n",
    "        - mu and logvar for the latent space for each cancer cell line\n",
    "        \"\"\"\n",
    "        for layer in self.hidden_layers:\n",
    "            x = self.nonlinear_activation(layer(x))\n",
    "        mu = self.mu_layer(x)\n",
    "        logvar = self.logvar_layer(x)\n",
    "\n",
    "        return mu, logvar"
   ]
  },
  {
   "cell_type": "code",
   "execution_count": 9,
   "id": "62392567-2ff0-4fbb-b083-30bb950a7c3b",
   "metadata": {},
   "outputs": [],
   "source": [
    "class Decoder(nn.Module):\n",
    "    def __init__(self, \n",
    "                 output_dim: int, \n",
    "                 hidden_layer_sizes: List[int], \n",
    "                 nonlinear_activation: nn.Module, \n",
    "                 latent_dim: int):\n",
    "        \"\"\"\n",
    "        multilayer perceptron decoder class\n",
    "        \n",
    "        Arguments:\n",
    "        - output_dim (int): number of features to predict\n",
    "        - hidden_layer_sizes (List[int]): list of # nodes in hidden layers\n",
    "        - nonlinear_activation (nn.Module): activation function\n",
    "        - latent_dim (int): number of latent space dimensions\n",
    "        \"\"\"\n",
    "        super().__init__()\n",
    "        self.latent_dim = latent_dim\n",
    "        self.hidden_layer_sizes = hidden_layer_sizes\n",
    "        self.output_dim = output_dim\n",
    "        self.nonlinear_activation = nonlinear_activation\n",
    "        \n",
    "        # defining the encoder layers\n",
    "        self.hidden_layers = nn.ModuleList([])\n",
    "        for idx in range(len(hidden_layer_sizes)):\n",
    "            if idx == 0:\n",
    "                self.hidden_layers.append(nn.Linear(latent_dim, self.hidden_layer_sizes[idx]))\n",
    "            else:\n",
    "                self.hidden_layers.append(nn.Linear(self.hidden_layer_sizes[idx-1], self.hidden_layer_sizes[idx]))\n",
    "        \n",
    "        # prediction layer\n",
    "        self.predict_layer = nn.Linear(self.hidden_layer_sizes[-1], output_dim)\n",
    "        \n",
    "    def forward(self, x):\n",
    "        \"\"\"\n",
    "        Arguments: \n",
    "        - x (tensor): sample from latent space\n",
    "        \n",
    "        Returns:\n",
    "        - prediction (tensor): tensor for model prediction for each feature\n",
    "        \"\"\"\n",
    "        for layer in self.hidden_layers:\n",
    "            x = self.nonlinear_activation(layer(x))\n",
    "        prediction = self.predict_layer(x)\n",
    "\n",
    "        return prediction"
   ]
  },
  {
   "cell_type": "code",
   "execution_count": 10,
   "id": "dffca635-3785-4a51-adc0-1f03417a508c",
   "metadata": {},
   "outputs": [],
   "source": [
    "class VAE(nn.Module):\n",
    "    def __init__(self, \n",
    "                 input_dim: int, \n",
    "                 output_dim: int, \n",
    "                 nonlinearity: \"str\"=\"relu\", \n",
    "                 latent_dim: int=64,\n",
    "                 hidden_layer_sizes: Optional[List[int]] = None,):\n",
    "        \"\"\"\n",
    "        VAE based predictive model class. Instead of reconstructing the input, the decoder predicts\n",
    "        the output variable. In this framework, the latent space is a lower-dimensional mapping from the \n",
    "        input to the output variables.\n",
    "        \n",
    "        Arguments:\n",
    "        - input_dim (int): number of dimensions in input data\n",
    "        - output_dim (int): number of features to predict\n",
    "        - nonlinearity (str): type of nonlinearity to apply between hidden layers, relu by default\n",
    "        - latent_dim (int): dimensionality of the latent space representation\n",
    "        - hidden_layer_sizes (List[int]): defines number of hidden layers and nodes in each layer, defaults\n",
    "            to [256, 128]\n",
    "        \"\"\"\n",
    "        super().__init__()\n",
    "        \n",
    "        # default parameter for hidden layer sizes\n",
    "        if hidden_layer_sizes is None:\n",
    "            hidden_layer_sizes = [256, 128]\n",
    "        \n",
    "        # checking for valid nonlinearity option: add more key, val pairs if necessary\n",
    "        nonlinear_fn_dict = {'relu': nn.ReLU(), 'elu': nn.ELU(), 'linear': nn.Identity()}\n",
    "        if nonlinearity not in nonlinear_fn_dict:\n",
    "            raise ValueError(f\"nonlinearity not a valid option, please choose one of {nonlinear_fn_dict.keys()}\")\n",
    "        \n",
    "        self.encoder = Encoder(input_dim, hidden_layer_sizes, nonlinear_fn_dict[nonlinearity], latent_dim)\n",
    "        # note that during reconstruction / prediction, the hidder layer size order is reversed\n",
    "        self.decoder = Decoder(output_dim, hidden_layer_sizes[::-1], nonlinear_fn_dict[nonlinearity], latent_dim)\n",
    "        \n",
    "    # sampling from a Gaussian using reparametrization trick\n",
    "    def reparameterize(self, mu, logvar):\n",
    "        \"\"\"Gaussian sampling from latent space, given mu and logvar\"\"\"\n",
    "        std = torch.exp(0.5 * logvar)\n",
    "        eps = torch.randn_like(std)\n",
    "        return mu + eps * std\n",
    "\n",
    "    def forward(self, x):\n",
    "        \"\"\"Forward pass for the VAE model\"\"\"\n",
    "        mu, logvar = self.encoder(x)\n",
    "        z = self.reparameterize(mu, logvar)\n",
    "        predictions = self.decoder(z)\n",
    "        return predictions, mu, logvar"
   ]
  },
  {
   "cell_type": "code",
   "execution_count": 11,
   "id": "a0b7a50a-4174-4409-8836-b0a52700f677",
   "metadata": {},
   "outputs": [],
   "source": [
    "def vae_loss_function(y_predicted, y_true, mu, logvar):\n",
    "    # Reconstruction loss (MSE loss between predicted and true values)\n",
    "    recon_loss = F.mse_loss(y_predicted, y_true, reduction='sum')\n",
    "    # KL divergence\n",
    "    KL_loss = -0.5 * torch.sum(1 + logvar - mu.pow(2) - logvar.exp())\n",
    "    return recon_loss + KL_loss"
   ]
  },
  {
   "cell_type": "markdown",
   "id": "54753fc9-5d7e-4008-8406-ac6bd135db68",
   "metadata": {},
   "source": [
    "## Model training"
   ]
  },
  {
   "cell_type": "code",
   "execution_count": 12,
   "id": "a0a8ce73-33ef-43f9-ad26-0c527466b6f9",
   "metadata": {},
   "outputs": [],
   "source": [
    "class MultiOmicDataset(Dataset):\n",
    "    \"\"\"Dataset class to pass to dataloaders\"\"\"\n",
    "    def __init__(self, input_data: np.array, output_data: np.array):\n",
    "        self.input_data = torch.tensor(input_data, dtype=torch.float32)\n",
    "        self.output_data = torch.tensor(output_data, dtype=torch.float32)\n",
    "\n",
    "    def __len__(self):\n",
    "        return len(self.input_data)\n",
    "\n",
    "    def __getitem__(self, idx):\n",
    "        return self.input_data[idx], self.output_data[idx]"
   ]
  },
  {
   "cell_type": "code",
   "execution_count": 13,
   "id": "92a49683-20a5-4286-b13a-e63e0fb10bab",
   "metadata": {},
   "outputs": [],
   "source": [
    "def training_loop(model, dataloader, epochs):\n",
    "    epoch_losses = []\n",
    "    for epoch in tqdm(range(epochs), desc=f\"Training Epoch\"):\n",
    "        model.train()\n",
    "        train_loss = 0\n",
    "        for training_batch, target_batch in dataloader:\n",
    "            optimizer.zero_grad()\n",
    "            predicted, mu, logvar = model(training_batch)\n",
    "            loss = vae_loss_function(predicted, target_batch, mu, logvar)\n",
    "            loss.backward()\n",
    "            train_loss += loss.item()\n",
    "            optimizer.step()\n",
    "        epoch_losses.append(train_loss / len(dataloader.dataset))\n",
    "    \n",
    "    return epoch_losses"
   ]
  },
  {
   "cell_type": "code",
   "execution_count": 15,
   "id": "8f3b6fde-de12-43e8-af92-da254af9d902",
   "metadata": {},
   "outputs": [],
   "source": [
    "# Hyperparameters\n",
    "LEARNING_RATE = 2e-4\n",
    "NUM_EPOCHS = 400\n",
    "# Setting equal to dataset size for convenience\n",
    "BATCH_SIZE = 175 "
   ]
  },
  {
   "cell_type": "markdown",
   "id": "ab4ef37d-dcea-4d28-86df-64e114f93702",
   "metadata": {},
   "source": [
    "### Training on the entire lung cancer dataset"
   ]
  },
  {
   "cell_type": "code",
   "execution_count": 17,
   "id": "8a735b27-8983-429a-a2c0-57e759a671b4",
   "metadata": {},
   "outputs": [],
   "source": [
    "# Initialize model, optimizer, and loss function\n",
    "full_model = VAE(input_dim=lung_training_data.shape[1], output_dim=lung_target_data.shape[1])\n",
    "optimizer = torch.optim.Adam(full_model.parameters(), lr=LEARNING_RATE)"
   ]
  },
  {
   "cell_type": "code",
   "execution_count": 18,
   "id": "74c5847b-af8d-47c6-911a-04d0baacb4a9",
   "metadata": {},
   "outputs": [
    {
     "data": {
      "text/plain": [
       "VAE(\n",
       "  (encoder): Encoder(\n",
       "    (nonlinear_activation): ReLU()\n",
       "    (hidden_layers): ModuleList(\n",
       "      (0): Linear(in_features=34808, out_features=256, bias=True)\n",
       "      (1): Linear(in_features=256, out_features=128, bias=True)\n",
       "    )\n",
       "    (mu_layer): Linear(in_features=128, out_features=64, bias=True)\n",
       "    (logvar_layer): Linear(in_features=128, out_features=64, bias=True)\n",
       "  )\n",
       "  (decoder): Decoder(\n",
       "    (nonlinear_activation): ReLU()\n",
       "    (hidden_layers): ModuleList(\n",
       "      (0): Linear(in_features=64, out_features=128, bias=True)\n",
       "      (1): Linear(in_features=128, out_features=256, bias=True)\n",
       "    )\n",
       "    (predict_layer): Linear(in_features=256, out_features=810, bias=True)\n",
       "  )\n",
       ")"
      ]
     },
     "execution_count": 18,
     "metadata": {},
     "output_type": "execute_result"
    }
   ],
   "source": [
    "# examine the model architecture\n",
    "full_model"
   ]
  },
  {
   "cell_type": "code",
   "execution_count": 19,
   "id": "eb11224f-fd8b-4cff-91b4-ff0a459427b1",
   "metadata": {},
   "outputs": [],
   "source": [
    "# data loader\n",
    "lung_dataset = MultiOmicDataset(np.array(lung_training_data), np.array(lung_target_data))\n",
    "lung_dataloader = DataLoader(lung_dataset, batch_size=BATCH_SIZE, shuffle=True)"
   ]
  },
  {
   "cell_type": "code",
   "execution_count": 20,
   "id": "7b5f372b-d4cb-4944-a8c0-fe73af93b86f",
   "metadata": {},
   "outputs": [
    {
     "name": "stderr",
     "output_type": "stream",
     "text": [
      "Training Epoch: 100%|█████████████████████████████████████████████| 400/400 [00:20<00:00, 19.69it/s]\n"
     ]
    },
    {
     "data": {
      "text/plain": [
       "<seaborn.axisgrid.FacetGrid at 0x154dd06d0>"
      ]
     },
     "execution_count": 20,
     "metadata": {},
     "output_type": "execute_result"
    },
    {
     "data": {
      "image/png": "[encoded data removed]",
      "text/plain": [
       "<Figure size 360x360 with 1 Axes>"
      ]
     },
     "metadata": {
      "needs_background": "light"
     },
     "output_type": "display_data"
    }
   ],
   "source": [
    "# train the model\n",
    "epoch_losses = training_loop(model=full_model, dataloader=lung_dataloader, epochs=NUM_EPOCHS)\n",
    "ax = sns.relplot(x=np.linspace(1, NUM_EPOCHS, NUM_EPOCHS),y=epoch_losses)\n",
    "ax.set(xlabel=\"Epochs\", ylabel=\"Training Loss (ELBO)\",)\n",
    "# print(f\"Epoch {epoch + 1}, Loss: {train_loss / len(dataloader.dataset):.4f}\")"
   ]
  },
  {
   "cell_type": "markdown",
   "id": "264351f0-35e2-4ab8-9528-1dcb165dfcd0",
   "metadata": {},
   "source": [
    "The model converges in about ~300 epochs. Let's see well the predicted drug response correlates with the actual response."
   ]
  },
  {
   "cell_type": "code",
   "execution_count": 21,
   "id": "0e4ffedf-3085-4b63-a487-c70a4afe1228",
   "metadata": {},
   "outputs": [],
   "source": [
    "def evaluate_model(model, dataloader, visualize=True):\n",
    "    \"\"\"Evaluate a trained model\"\"\"\n",
    "    \n",
    "    model.eval()\n",
    "    all_predictions = []\n",
    "    all_targets = []\n",
    "    total_loss = 0.0\n",
    "    with torch.no_grad():\n",
    "        for training_batch, target_batch in dataloader:\n",
    "            predicted, mu, logvar = model(training_batch)\n",
    "            # track validation loss over batches\n",
    "            loss = vae_loss_function(predicted, target_batch, mu, logvar)\n",
    "            total_loss += loss.item()\n",
    "            # track predicted and target values\n",
    "            all_predictions.append(predicted)\n",
    "            all_targets.append(target_batch)\n",
    "    \n",
    "    # concatenate tensors\n",
    "    all_predictions = torch.cat(all_predictions, dim=0).numpy()\n",
    "    all_targets = torch.cat(all_targets, dim=0).numpy()\n",
    "    \n",
    "    pearson_r, _ = pearsonr(all_targets.flatten(), all_predictions.flatten())\n",
    "    spearman_r, _ = spearmanr(all_targets.flatten(), all_predictions.flatten())\n",
    "    mse = mean_squared_error(all_targets.flatten(), all_predictions.flatten())\n",
    "    average_loss = total_loss / len(dataloader.dataset)\n",
    "\n",
    "    metrics_dict = {\n",
    "        \"pearson_r\": pearson_r,\n",
    "        \"spearman_rho\": spearman_r,\n",
    "        \"loss\": average_loss,\n",
    "        \"mse\": mse,\n",
    "        \"predictions\": all_predictions\n",
    "    }\n",
    "    \n",
    "    if visualize:\n",
    "        ax = sns.jointplot(x=all_targets.flatten(), y=all_predictions.flatten(), kind=\"kde\")\n",
    "        ax.ax_joint.set(xlabel=\"Actual response\", ylabel=\"Predicted response\")\n",
    "\n",
    "    return metrics_dict"
   ]
  },
  {
   "cell_type": "code",
   "execution_count": 22,
   "id": "a005041f-d5fe-47b9-9e25-39c828ed4c5f",
   "metadata": {},
   "outputs": [],
   "source": [
    "full_metrics_dict = evaluate_model(full_model, lung_dataloader, visualize=False)"
   ]
  },
  {
   "cell_type": "code",
   "execution_count": 23,
   "id": "3bfb035e-4af5-4433-b0e3-1bf846a786eb",
   "metadata": {},
   "outputs": [
    {
     "name": "stdout",
     "output_type": "stream",
     "text": [
      "MSE in target response: 0.5471, Pearson R: 0.9565, Spearman rho: 0.9434\n"
     ]
    }
   ],
   "source": [
    "print(f\"MSE in target response: {full_metrics_dict['mse']:.4f}, Pearson R: {full_metrics_dict['pearson_r']:.4f}, Spearman rho: {full_metrics_dict['spearman_rho']:.4f}\")"
   ]
  },
  {
   "cell_type": "markdown",
   "id": "9b96d127-f495-476a-96bd-ce6e0f64c024",
   "metadata": {},
   "source": [
    "The model performs remarkably well, with very high Pearson and Spearman correlation, and an MSE in drug response prediction of only about 0.5 units.\n"
   ]
  },
  {
   "cell_type": "markdown",
   "id": "4577afa2-327c-44d6-9753-bb8c23bc0caa",
   "metadata": {
    "tags": []
   },
   "source": [
    "## Evaluating the model: cross validation\n",
    "\n",
    "In the previous section, I used all the data to train the model, and then predicted on the entire dataset again. Therefore it isn't too surprising that we get good model performance. To get a better sense of generalizability, I will perform k-fold cross validation, training on 80% of the data and predicting on the remaining 20%.\n",
    "\n",
    "If the model is significantly overfitting to the training data, I would expect to see much worse performance on the validation set."
   ]
  },
  {
   "cell_type": "code",
   "execution_count": 24,
   "id": "a14f81df-5157-46e3-be47-828c7991fe0a",
   "metadata": {},
   "outputs": [],
   "source": [
    "from sklearn.model_selection import KFold"
   ]
  },
  {
   "cell_type": "code",
   "execution_count": 26,
   "id": "c5af9214-038f-4441-a0b2-64d71b3dea81",
   "metadata": {},
   "outputs": [
    {
     "name": "stdout",
     "output_type": "stream",
     "text": [
      "\n",
      "--- Fold 1/5 ---\n"
     ]
    },
    {
     "name": "stderr",
     "output_type": "stream",
     "text": [
      "Training Epoch: 100%|█████████████████████████████████████████████| 400/400 [00:18<00:00, 22.02it/s]\n"
     ]
    },
    {
     "name": "stdout",
     "output_type": "stream",
     "text": [
      "Training metrics\n",
      "MSE in target response: 0.5356, Pearson R: 0.9560, Spearman rho: 0.9429\n",
      "Validation metrics\n",
      "MSE in target response: 0.5766, Pearson R: 0.9525, Spearman rho: 0.9376\n",
      "\n",
      "--- Fold 2/5 ---\n"
     ]
    },
    {
     "name": "stderr",
     "output_type": "stream",
     "text": [
      "Training Epoch: 100%|█████████████████████████████████████████████| 400/400 [00:18<00:00, 21.88it/s]\n"
     ]
    },
    {
     "name": "stdout",
     "output_type": "stream",
     "text": [
      "Training metrics\n",
      "MSE in target response: 0.5165, Pearson R: 0.9576, Spearman rho: 0.9440\n",
      "Validation metrics\n",
      "MSE in target response: 0.6887, Pearson R: 0.9421, Spearman rho: 0.9248\n",
      "\n",
      "--- Fold 3/5 ---\n"
     ]
    },
    {
     "name": "stderr",
     "output_type": "stream",
     "text": [
      "Training Epoch: 100%|█████████████████████████████████████████████| 400/400 [00:18<00:00, 21.59it/s]\n"
     ]
    },
    {
     "name": "stdout",
     "output_type": "stream",
     "text": [
      "Training metrics\n",
      "MSE in target response: 0.5276, Pearson R: 0.9573, Spearman rho: 0.9442\n",
      "Validation metrics\n",
      "MSE in target response: 0.6932, Pearson R: 0.9443, Spearman rho: 0.9237\n",
      "\n",
      "--- Fold 4/5 ---\n"
     ]
    },
    {
     "name": "stderr",
     "output_type": "stream",
     "text": [
      "Training Epoch: 100%|█████████████████████████████████████████████| 400/400 [00:18<00:00, 21.92it/s]\n"
     ]
    },
    {
     "name": "stdout",
     "output_type": "stream",
     "text": [
      "Training metrics\n",
      "MSE in target response: 0.5339, Pearson R: 0.9558, Spearman rho: 0.9420\n",
      "Validation metrics\n",
      "MSE in target response: 0.6109, Pearson R: 0.9519, Spearman rho: 0.9396\n",
      "\n",
      "--- Fold 5/5 ---\n"
     ]
    },
    {
     "name": "stderr",
     "output_type": "stream",
     "text": [
      "Training Epoch: 100%|█████████████████████████████████████████████| 400/400 [00:18<00:00, 21.98it/s]\n"
     ]
    },
    {
     "name": "stdout",
     "output_type": "stream",
     "text": [
      "Training metrics\n",
      "MSE in target response: 0.5225, Pearson R: 0.9577, Spearman rho: 0.9456\n",
      "Validation metrics\n",
      "MSE in target response: 0.7487, Pearson R: 0.9375, Spearman rho: 0.9147\n"
     ]
    },
    {
     "data": {
      "image/png": "[encoded data removed]",
      "text/plain": [
       "<Figure size 432x288 with 1 Axes>"
      ]
     },
     "metadata": {
      "needs_background": "light"
     },
     "output_type": "display_data"
    }
   ],
   "source": [
    "fig,ax = plt.subplots()\n",
    "ax.set(xlabel=\"Epochs\", ylabel=\"Training Loss (ELBO)\")\n",
    "\n",
    "n_folds=5\n",
    "kfold = KFold(n_splits=n_folds, shuffle=True, random_state=42)\n",
    "for fold, (train_idx, val_idx) in enumerate(kfold.split(lung_dataset), start=1):\n",
    "    print(f\"\\n--- Fold {fold}/{n_folds} ---\")\n",
    "    train_subset = Subset(lung_dataset, train_idx)\n",
    "    val_subset = Subset(lung_dataset, val_idx)\n",
    "\n",
    "    # define the dataloaders\n",
    "    train_loader = DataLoader(\n",
    "            train_subset, batch_size=BATCH_SIZE, shuffle=True\n",
    "        )\n",
    "    val_loader = DataLoader(\n",
    "        val_subset, batch_size=BATCH_SIZE, shuffle=False\n",
    "    )\n",
    "\n",
    "    # instantiate the model\n",
    "    cross_val_model = VAE(input_dim=lung_training_data.shape[1], output_dim=lung_target_data.shape[1])\n",
    "    optimizer = torch.optim.Adam(cross_val_model.parameters(), lr=LEARNING_RATE)\n",
    "    \n",
    "    # train the model\n",
    "    epoch_losses = training_loop(model=cross_val_model, dataloader=train_loader,epochs=NUM_EPOCHS)\n",
    "    sns.scatterplot(x=np.linspace(1, NUM_EPOCHS, NUM_EPOCHS),y=epoch_losses, ax=ax)\n",
    "    \n",
    "    # evaluate on validation dataset\n",
    "    train_metrics_dict = evaluate_model(cross_val_model, train_loader, visualize=False)\n",
    "    print(\"Training metrics\")\n",
    "    print(f\"MSE in target response: {train_metrics_dict['mse']:.4f}, Pearson R: {train_metrics_dict['pearson_r']:.4f}, Spearman rho: {train_metrics_dict['spearman_rho']:.4f}\")\n",
    "    \n",
    "    val_metrics_dict = evaluate_model(cross_val_model, val_loader, visualize=False)\n",
    "    print(\"Validation metrics\")\n",
    "    print(f\"MSE in target response: {val_metrics_dict['mse']:.4f}, Pearson R: {val_metrics_dict['pearson_r']:.4f}, Spearman rho: {val_metrics_dict['spearman_rho']:.4f}\")"
   ]
  },
  {
   "cell_type": "markdown",
   "id": "41c9aa02-1117-4117-bc73-adb9121718f3",
   "metadata": {},
   "source": [
    "Interstingly, even in a cross validation setting, the model performance is very strong: the Pearson and Spearman correlations are nearly as good as on the training data, but the mean squared error is usually slightly worse, as we would expect! "
   ]
  },
  {
   "cell_type": "markdown",
   "id": "020991bb-7795-40e0-a641-963fcb6e15ef",
   "metadata": {},
   "source": [
    "## Evaluating the model: predicting on skin cancer datasets \n",
    "\n",
    "Testing generalizability of the VAE predictive model across cancer types"
   ]
  },
  {
   "cell_type": "markdown",
   "id": "571f2ff6-c110-429a-a136-31450f5eacbe",
   "metadata": {},
   "source": [
    "### Loading skin cancer datasets"
   ]
  },
  {
   "cell_type": "code",
   "execution_count": 27,
   "id": "e43652ed-46ac-4a48-b5c1-fee315287346",
   "metadata": {},
   "outputs": [],
   "source": [
    "skin_datasets = {}\n",
    "for file in os.listdir(f\"Dataset/Skin\"):\n",
    "    if file.endswith(\".csv\"):\n",
    "        df = pd.read_csv(os.path.join(f\"Dataset/{cancer_type}\", file), index_col=0)\n",
    "        dict_key = file.replace(\"_imputed\", \"\").replace(\"_latest\", \"\").replace(\".csv\", \"\").split(\"_\")[-1]\n",
    "        skin_datasets[dict_key] = df"
   ]
  },
  {
   "cell_type": "code",
   "execution_count": 28,
   "id": "186633d1-a106-42ef-be51-7e6206d77c08",
   "metadata": {},
   "outputs": [],
   "source": [
    "skin_input_data = pd.concat([skin_datasets[key] for key in training_assays if key != \"fusions\"], axis=1)\n",
    "skin_target_data = skin_datasets[target_assay]"
   ]
  },
  {
   "cell_type": "code",
   "execution_count": 29,
   "id": "220f9a83-1da5-4d1c-ae72-d3c85e17630c",
   "metadata": {},
   "outputs": [],
   "source": [
    "# data loader\n",
    "skin_dataset = MultiOmicDataset(np.array(skin_input_data), np.array(skin_target_data))\n",
    "skin_dataloader = DataLoader(holdout_dataset, batch_size=BATCH_SIZE, shuffle=True)"
   ]
  },
  {
   "cell_type": "markdown",
   "id": "5c72b786-3816-4610-80ba-20af81128048",
   "metadata": {},
   "source": [
    "### Evaluating model trained on lung cancer data"
   ]
  },
  {
   "cell_type": "code",
   "execution_count": 30,
   "id": "508eaafc-366c-4e2c-887f-391cf6cd533a",
   "metadata": {},
   "outputs": [
    {
     "data": {
      "image/png": "[encoded data removed]",
      "text/plain": [
       "<Figure size 432x432 with 3 Axes>"
      ]
     },
     "metadata": {
      "needs_background": "light"
     },
     "output_type": "display_data"
    }
   ],
   "source": [
    "skin_metrics_dict = evaluate_model(full_model, skin_dataloader, visualize=True)"
   ]
  },
  {
   "cell_type": "code",
   "execution_count": 31,
   "id": "9f4e5df4-953b-41d2-a89f-33d95c6de700",
   "metadata": {},
   "outputs": [
    {
     "name": "stdout",
     "output_type": "stream",
     "text": [
      "MSE in target response: 1.4798, Pearson R: 0.9041, Spearman rho: 0.8880\n"
     ]
    }
   ],
   "source": [
    "print(f\"MSE in target response: {skin_metrics_dict['mse']:.4f}, Pearson R: {skin_metrics_dict['pearson_r']:.4f}, Spearman rho: {skin_metrics_dict['spearman_rho']:.4f}\")"
   ]
  },
  {
   "cell_type": "markdown",
   "id": "ed30b42e-befc-4899-9304-5e5bb5dd3177",
   "metadata": {},
   "source": [
    "**Observation**\n",
    "\n",
    "The model actually performs quite well even on holdout data from the skin cancer dataset suggesting that it does in fact have pretty good generalizability. "
   ]
  },
  {
   "cell_type": "markdown",
   "id": "ef599c59-6287-4d03-90c6-1e891a4677b1",
   "metadata": {},
   "source": [
    "## Best predicted drug responses\n",
    "\n",
    "Here, I'll investigate if there are particular drugs for which the model is particularly good at predicting the response. For this analysis, I'll use the version of the model trained on the entire lung cancer dataset."
   ]
  },
  {
   "cell_type": "code",
   "execution_count": 61,
   "id": "b8ef134f-db91-4dda-a622-30a969a29b50",
   "metadata": {},
   "outputs": [],
   "source": [
    "predicted_drug_response = full_metrics_dict[\"predictions\"]"
   ]
  },
  {
   "cell_type": "code",
   "execution_count": 62,
   "id": "a24de18b-7083-402b-8648-466006e867c1",
   "metadata": {},
   "outputs": [],
   "source": [
    "prediction_errors_df = pd.DataFrame(np.sqrt((predicted_drug_response - np.array(target_data))**2), index=target_data.index, columns=target_data.columns)"
   ]
  },
  {
   "cell_type": "code",
   "execution_count": 70,
   "id": "ceaa75b4-074a-4f10-aca9-3fb7f861b167",
   "metadata": {},
   "outputs": [],
   "source": [
    "mse_prediction_error = prediction_errors_df.mean().reset_index().rename(columns={\"index\":\"drug\", 0: \"error\"})"
   ]
  },
  {
   "cell_type": "code",
   "execution_count": 72,
   "id": "9fb5d4b6-1cca-4cff-8c7a-b4177cc1240b",
   "metadata": {},
   "outputs": [],
   "source": [
    "mse_prediction_error[\"drug_name\"] = mse_prediction_error[\"drug\"].apply(lambda x: x.split(\";\")[1])"
   ]
  },
  {
   "cell_type": "code",
   "execution_count": 75,
   "id": "1f6b5e2c-bc55-4b63-a1f5-0b8857a2a70d",
   "metadata": {},
   "outputs": [
    {
     "data": {
      "text/html": [
       "<div>\n",
       "<style scoped>\n",
       "    .dataframe tbody tr th:only-of-type {\n",
       "        vertical-align: middle;\n",
       "    }\n",
       "\n",
       "    .dataframe tbody tr th {\n",
       "        vertical-align: top;\n",
       "    }\n",
       "\n",
       "    .dataframe thead th {\n",
       "        text-align: right;\n",
       "    }\n",
       "</style>\n",
       "<table border=\"1\" class=\"dataframe\">\n",
       "  <thead>\n",
       "    <tr style=\"text-align: right;\">\n",
       "      <th></th>\n",
       "      <th>drug</th>\n",
       "      <th>error</th>\n",
       "      <th>drug_name</th>\n",
       "    </tr>\n",
       "  </thead>\n",
       "  <tbody>\n",
       "    <tr>\n",
       "      <th>488</th>\n",
       "      <td>1518;Lasalocid;GDSC1</td>\n",
       "      <td>0.289471</td>\n",
       "      <td>Lasalocid</td>\n",
       "    </tr>\n",
       "    <tr>\n",
       "      <th>413</th>\n",
       "      <td>1264;SGC0946;GDSC1</td>\n",
       "      <td>0.313678</td>\n",
       "      <td>SGC0946</td>\n",
       "    </tr>\n",
       "    <tr>\n",
       "      <th>211</th>\n",
       "      <td>478;LDN-193189;GDSC1</td>\n",
       "      <td>0.319765</td>\n",
       "      <td>LDN-193189</td>\n",
       "    </tr>\n",
       "    <tr>\n",
       "      <th>217</th>\n",
       "      <td>574;Wnt-C59;GDSC1</td>\n",
       "      <td>0.330617</td>\n",
       "      <td>Wnt-C59</td>\n",
       "    </tr>\n",
       "    <tr>\n",
       "      <th>33</th>\n",
       "      <td>91;GSK319347A;GDSC1</td>\n",
       "      <td>0.334476</td>\n",
       "      <td>GSK319347A</td>\n",
       "    </tr>\n",
       "    <tr>\n",
       "      <th>17</th>\n",
       "      <td>52;GNF-2;GDSC1</td>\n",
       "      <td>0.340600</td>\n",
       "      <td>GNF-2</td>\n",
       "    </tr>\n",
       "    <tr>\n",
       "      <th>412</th>\n",
       "      <td>1263;UNC0642;GDSC1</td>\n",
       "      <td>0.346894</td>\n",
       "      <td>UNC0642</td>\n",
       "    </tr>\n",
       "    <tr>\n",
       "      <th>47</th>\n",
       "      <td>150;Bicalutamide;GDSC1</td>\n",
       "      <td>0.349152</td>\n",
       "      <td>Bicalutamide</td>\n",
       "    </tr>\n",
       "    <tr>\n",
       "      <th>411</th>\n",
       "      <td>1262;UNC1215;GDSC1</td>\n",
       "      <td>0.355569</td>\n",
       "      <td>UNC1215</td>\n",
       "    </tr>\n",
       "    <tr>\n",
       "      <th>210</th>\n",
       "      <td>477;A-83-01;GDSC1</td>\n",
       "      <td>0.358685</td>\n",
       "      <td>A-83-01</td>\n",
       "    </tr>\n",
       "    <tr>\n",
       "      <th>10</th>\n",
       "      <td>34;Imatinib;GDSC1</td>\n",
       "      <td>0.361222</td>\n",
       "      <td>Imatinib</td>\n",
       "    </tr>\n",
       "    <tr>\n",
       "      <th>490</th>\n",
       "      <td>1520;Latamoxef;GDSC1</td>\n",
       "      <td>0.361764</td>\n",
       "      <td>Latamoxef</td>\n",
       "    </tr>\n",
       "    <tr>\n",
       "      <th>216</th>\n",
       "      <td>573;LGK974;GDSC1</td>\n",
       "      <td>0.361996</td>\n",
       "      <td>LGK974</td>\n",
       "    </tr>\n",
       "    <tr>\n",
       "      <th>85</th>\n",
       "      <td>202;GSK1904529A;GDSC1</td>\n",
       "      <td>0.364916</td>\n",
       "      <td>GSK1904529A</td>\n",
       "    </tr>\n",
       "    <tr>\n",
       "      <th>212</th>\n",
       "      <td>546;FTY-720;GDSC1</td>\n",
       "      <td>0.366451</td>\n",
       "      <td>FTY-720</td>\n",
       "    </tr>\n",
       "    <tr>\n",
       "      <th>395</th>\n",
       "      <td>1230;IOX2;GDSC1</td>\n",
       "      <td>0.368541</td>\n",
       "      <td>IOX2</td>\n",
       "    </tr>\n",
       "    <tr>\n",
       "      <th>214</th>\n",
       "      <td>562;AGI-6780;GDSC1</td>\n",
       "      <td>0.371874</td>\n",
       "      <td>AGI-6780</td>\n",
       "    </tr>\n",
       "    <tr>\n",
       "      <th>188</th>\n",
       "      <td>408;Sphingosine Kinase 1 Inhibitor II;GDSC1</td>\n",
       "      <td>0.374701</td>\n",
       "      <td>Sphingosine Kinase 1 Inhibitor II</td>\n",
       "    </tr>\n",
       "    <tr>\n",
       "      <th>455</th>\n",
       "      <td>1437;MCT4_1422;GDSC1</td>\n",
       "      <td>0.381017</td>\n",
       "      <td>MCT4_1422</td>\n",
       "    </tr>\n",
       "    <tr>\n",
       "      <th>476</th>\n",
       "      <td>1502;Bicalutamide;GDSC1</td>\n",
       "      <td>0.387255</td>\n",
       "      <td>Bicalutamide</td>\n",
       "    </tr>\n",
       "  </tbody>\n",
       "</table>\n",
       "</div>"
      ],
      "text/plain": [
       "                                            drug     error  \\\n",
       "488                         1518;Lasalocid;GDSC1  0.289471   \n",
       "413                           1264;SGC0946;GDSC1  0.313678   \n",
       "211                         478;LDN-193189;GDSC1  0.319765   \n",
       "217                            574;Wnt-C59;GDSC1  0.330617   \n",
       "33                           91;GSK319347A;GDSC1  0.334476   \n",
       "17                                52;GNF-2;GDSC1  0.340600   \n",
       "412                           1263;UNC0642;GDSC1  0.346894   \n",
       "47                        150;Bicalutamide;GDSC1  0.349152   \n",
       "411                           1262;UNC1215;GDSC1  0.355569   \n",
       "210                            477;A-83-01;GDSC1  0.358685   \n",
       "10                             34;Imatinib;GDSC1  0.361222   \n",
       "490                         1520;Latamoxef;GDSC1  0.361764   \n",
       "216                             573;LGK974;GDSC1  0.361996   \n",
       "85                         202;GSK1904529A;GDSC1  0.364916   \n",
       "212                            546;FTY-720;GDSC1  0.366451   \n",
       "395                              1230;IOX2;GDSC1  0.368541   \n",
       "214                           562;AGI-6780;GDSC1  0.371874   \n",
       "188  408;Sphingosine Kinase 1 Inhibitor II;GDSC1  0.374701   \n",
       "455                         1437;MCT4_1422;GDSC1  0.381017   \n",
       "476                      1502;Bicalutamide;GDSC1  0.387255   \n",
       "\n",
       "                             drug_name  \n",
       "488                          Lasalocid  \n",
       "413                            SGC0946  \n",
       "211                         LDN-193189  \n",
       "217                            Wnt-C59  \n",
       "33                          GSK319347A  \n",
       "17                               GNF-2  \n",
       "412                            UNC0642  \n",
       "47                        Bicalutamide  \n",
       "411                            UNC1215  \n",
       "210                            A-83-01  \n",
       "10                            Imatinib  \n",
       "490                          Latamoxef  \n",
       "216                             LGK974  \n",
       "85                         GSK1904529A  \n",
       "212                            FTY-720  \n",
       "395                               IOX2  \n",
       "214                           AGI-6780  \n",
       "188  Sphingosine Kinase 1 Inhibitor II  \n",
       "455                          MCT4_1422  \n",
       "476                       Bicalutamide  "
      ]
     },
     "execution_count": 75,
     "metadata": {},
     "output_type": "execute_result"
    }
   ],
   "source": [
    "mse_prediction_error.sort_values(by=\"error\").head(20)"
   ]
  },
  {
   "cell_type": "markdown",
   "id": "fdf2d628-1a87-43e8-96a8-c965aca9d5d2",
   "metadata": {},
   "source": [
    "I want to now explore whether the model is good at predicting drug responses uniformly across the dynamic range of the assay, or does it excel at low vs high responses?"
   ]
  },
  {
   "cell_type": "code",
   "execution_count": 76,
   "id": "5e16ccfd-45e6-4cdf-9167-daaff2bfdacc",
   "metadata": {},
   "outputs": [],
   "source": [
    "mean_response_by_drug = target_data.mean().reset_index().rename(columns={\"index\":\"drug\", 0: \"mean_response\"})"
   ]
  },
  {
   "cell_type": "code",
   "execution_count": 77,
   "id": "e348025c-9ac6-4bed-9e5a-52af6a9f76e8",
   "metadata": {},
   "outputs": [],
   "source": [
    "merged_df = mean_response_by_drug.merge(mse_prediction_error, on='drug')"
   ]
  },
  {
   "cell_type": "code",
   "execution_count": 79,
   "id": "17fabac9-11d6-4148-830c-d0668966ea30",
   "metadata": {},
   "outputs": [
    {
     "data": {
      "text/plain": [
       "<AxesSubplot:xlabel='mean_response', ylabel='error'>"
      ]
     },
     "execution_count": 79,
     "metadata": {},
     "output_type": "execute_result"
    },
    {
     "data": {
      "image/png": "[encoded data removed]",
      "text/plain": [
       "<Figure size 432x288 with 1 Axes>"
      ]
     },
     "metadata": {
      "needs_background": "light"
     },
     "output_type": "display_data"
    }
   ],
   "source": [
    "sns.regplot(data=merged_df, x=\"mean_response\", y=\"error\")"
   ]
  },
  {
   "cell_type": "markdown",
   "id": "850aa364-3791-46dd-9659-6741459d20f9",
   "metadata": {},
   "source": [
    "This is very interesting, it appears that model predictions are generally noisier for drugs with a lower mean response"
   ]
  },
  {
   "cell_type": "markdown",
   "id": "9e2c77c6-5a43-4c0c-9655-d4bb8b869f88",
   "metadata": {},
   "source": [
    "# Potential next steps\n",
    "\n",
    "This is a fascinating dataset to be playing around with. Questions / thoughts I'd address given more time include the following:\n",
    "\n",
    "**Biological questions**\n",
    "- Other predictive tasks: for instance predicting gene essentiality (i.e. CRISPR Cas9 mutagenesis response) from methylation, transcriptomics, proteomics, or predicting proteomic data from transcriptomics, etc.\n",
    "- Take the drug response prediction one step further: use drug SMILES strings as model input (through some reasonable representation of chemical structures), and predict drug response. This could allow us to generate predictions for as-yet untested drugs. \n",
    "\n",
    "**Model architecture**\n",
    "- Simpler architectures to understand how complex a model needs to be (linear models, tree-based regressors, multilayer perceptrons) but also complex models such as transformers with self-attention: where do we observe diminishing returns between model complexity and performance?\n",
    "\n",
    "**Model training**\n",
    "\n",
    "Here, I modified the canonical VAE architecture to predict drug response instead of reconstructing the input. I would try a few different model training approaches:\n",
    "- Reconstruct the input omics data, and use the latent space representations in a predictive model for drug response.\n",
    "- Play around with semi-supervised versions of VAEs where I reconstruct the input omics data, and predict drug response at the same time.\n",
    "- Tune model hyperparameters systematically, play around with changing the weighting between reconstruction loss and KL divergence in the VAE\n",
    "- Optimize model training on GPUs for larger datasets: I trained the models locally on ~8G CPU which is definitely not scalable. \n",
    "\n",
    "**Model validation**\n",
    "- Systematic analysis of which datasets (from methylation, transcriptomics, proteomics) contribute the most to the model performance, removing one or two assay types systematically, and try to understand which input datasets have the most predictive power.\n",
    "- Explore model generalizability across other cancer types from the Cell Passports database. Is the high generalizbility from lung to skin cancer due to similarities in the underlying mutations leading to cancer? Does predicting drug response in cancers much more different from lung cancer become difficult?\n",
    "\n",
    "**Interpretation of drug response data**\n",
    "- For the drugs where the model predictions, are better vs worse, do they target specific classes of genes, or share chemical properties? "
   ]
  }
 ],
 "metadata": {
  "kernelspec": {
   "display_name": "Python 3 (ipykernel)",
   "language": "python",
   "name": "python3"
  },
  "language_info": {
   "codemirror_mode": {
    "name": "ipython",
    "version": 3
   },
   "file_extension": ".py",
   "mimetype": "text/x-python",
   "name": "python",
   "nbconvert_exporter": "python",
   "pygments_lexer": "ipython3",
   "version": "3.9.19"
  },
  "toc-autonumbering": true,
  "toc-showcode": false,
  "toc-showmarkdowntxt": false
 },
 "nbformat": 4,
 "nbformat_minor": 5
}
